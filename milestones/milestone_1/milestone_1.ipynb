{
 "cells": [
  {
   "attachments": {},
   "cell_type": "markdown",
   "metadata": {},
   "source": [
    "# Data visualization : milestone 1 "
   ]
  },
  {
   "attachments": {},
   "cell_type": "markdown",
   "metadata": {},
   "source": [
    "## Dataset"
   ]
  },
  {
   "attachments": {},
   "cell_type": "markdown",
   "metadata": {},
   "source": [
    "For our project, we found interesting to take a record of some of the 911 calls in Montgomery County, in the Commonwealth of Pennsylvania.\n",
    "\n",
    "You can find the data set here : https://www.kaggle.com/datasets/mchirico/montcoalert."
   ]
  },
  {
   "attachments": {},
   "cell_type": "markdown",
   "metadata": {},
   "source": [
    "#### Read the data"
   ]
  },
  {
   "cell_type": "code",
   "execution_count": 1,
   "metadata": {},
   "outputs": [],
   "source": [
    "\n",
    "import datetime\n",
    "import json\n",
    "import matplotlib.pyplot as plt\n",
    "import numpy as np \n",
    "import pandas as pd\n",
    "import plotly.express as px\n",
    "import plotly.figure_factory as ff\n",
    "import seaborn as sns\n",
    "from urllib.request import urlopen\n",
    "import warnings\n",
    "\n",
    "warnings.filterwarnings(\"ignore\")\n",
    "\n",
    "sns.set(style=\"white\", color_codes=True)"
   ]
  },
  {
   "cell_type": "code",
   "execution_count": 2,
   "metadata": {},
   "outputs": [],
   "source": [
    "FILE_LOCATION = {\"calls\": \"../../data/data_files/archive.zip\", \"revenues\":\"../../data/data_files/montgomery_county_revenues.csv\"}"
   ]
  },
  {
   "cell_type": "code",
   "execution_count": 3,
   "metadata": {},
   "outputs": [],
   "source": [
    "dateparse = lambda x: datetime.datetime.strptime(x,'%Y-%m-%d %H:%M:%S')\n",
    "\n",
    "calls_data = pd.read_csv(\n",
    "    filepath_or_buffer = FILE_LOCATION[\"calls\"],\n",
    "    header = 0,\n",
    "    names = ['lat', 'lng', 'desc', 'zip', 'title', 'timeStamp', 'twp', 'addr', 'e'],\n",
    "    dtype = {\n",
    "        'lat':str,'lng':str,'desc':str, 'zip':str,\n",
    "        'title':str, 'timeStamp':str, 'twp':str, 'addr':str, 'e':int\n",
    "        }, \n",
    "    parse_dates = ['timeStamp'],\n",
    "    date_parser = dateparse)\n",
    "\n",
    "calls_data.timeStamp = pd.DatetimeIndex(calls_data.timeStamp)"
   ]
  },
  {
   "cell_type": "code",
   "execution_count": 4,
   "metadata": {},
   "outputs": [
    {
     "data": {
      "text/html": [
       "<div>\n",
       "<style scoped>\n",
       "    .dataframe tbody tr th:only-of-type {\n",
       "        vertical-align: middle;\n",
       "    }\n",
       "\n",
       "    .dataframe tbody tr th {\n",
       "        vertical-align: top;\n",
       "    }\n",
       "\n",
       "    .dataframe thead th {\n",
       "        text-align: right;\n",
       "    }\n",
       "</style>\n",
       "<table border=\"1\" class=\"dataframe\">\n",
       "  <thead>\n",
       "    <tr style=\"text-align: right;\">\n",
       "      <th></th>\n",
       "      <th>lat</th>\n",
       "      <th>lng</th>\n",
       "      <th>desc</th>\n",
       "      <th>zip</th>\n",
       "      <th>title</th>\n",
       "      <th>timeStamp</th>\n",
       "      <th>twp</th>\n",
       "      <th>addr</th>\n",
       "      <th>e</th>\n",
       "    </tr>\n",
       "  </thead>\n",
       "  <tbody>\n",
       "    <tr>\n",
       "      <th>0</th>\n",
       "      <td>40.2978759</td>\n",
       "      <td>-75.5812935</td>\n",
       "      <td>REINDEER CT &amp; DEAD END;  NEW HANOVER; Station ...</td>\n",
       "      <td>19525</td>\n",
       "      <td>EMS: BACK PAINS/INJURY</td>\n",
       "      <td>2015-12-10 17:10:52</td>\n",
       "      <td>NEW HANOVER</td>\n",
       "      <td>REINDEER CT &amp; DEAD END</td>\n",
       "      <td>1</td>\n",
       "    </tr>\n",
       "    <tr>\n",
       "      <th>1</th>\n",
       "      <td>40.2580614</td>\n",
       "      <td>-75.2646799</td>\n",
       "      <td>BRIAR PATH &amp; WHITEMARSH LN;  HATFIELD TOWNSHIP...</td>\n",
       "      <td>19446</td>\n",
       "      <td>EMS: DIABETIC EMERGENCY</td>\n",
       "      <td>2015-12-10 17:29:21</td>\n",
       "      <td>HATFIELD TOWNSHIP</td>\n",
       "      <td>BRIAR PATH &amp; WHITEMARSH LN</td>\n",
       "      <td>1</td>\n",
       "    </tr>\n",
       "    <tr>\n",
       "      <th>2</th>\n",
       "      <td>40.1211818</td>\n",
       "      <td>-75.3519752</td>\n",
       "      <td>HAWS AVE; NORRISTOWN; 2015-12-10 @ 14:39:21-St...</td>\n",
       "      <td>19401</td>\n",
       "      <td>Fire: GAS-ODOR/LEAK</td>\n",
       "      <td>2015-12-10 14:39:21</td>\n",
       "      <td>NORRISTOWN</td>\n",
       "      <td>HAWS AVE</td>\n",
       "      <td>1</td>\n",
       "    </tr>\n",
       "    <tr>\n",
       "      <th>3</th>\n",
       "      <td>40.1161530</td>\n",
       "      <td>-75.3435130</td>\n",
       "      <td>AIRY ST &amp; SWEDE ST;  NORRISTOWN; Station 308A;...</td>\n",
       "      <td>19401</td>\n",
       "      <td>EMS: CARDIAC EMERGENCY</td>\n",
       "      <td>2015-12-10 16:47:36</td>\n",
       "      <td>NORRISTOWN</td>\n",
       "      <td>AIRY ST &amp; SWEDE ST</td>\n",
       "      <td>1</td>\n",
       "    </tr>\n",
       "    <tr>\n",
       "      <th>4</th>\n",
       "      <td>40.2514920</td>\n",
       "      <td>-75.6033497</td>\n",
       "      <td>CHERRYWOOD CT &amp; DEAD END;  LOWER POTTSGROVE; S...</td>\n",
       "      <td>NaN</td>\n",
       "      <td>EMS: DIZZINESS</td>\n",
       "      <td>2015-12-10 16:56:52</td>\n",
       "      <td>LOWER POTTSGROVE</td>\n",
       "      <td>CHERRYWOOD CT &amp; DEAD END</td>\n",
       "      <td>1</td>\n",
       "    </tr>\n",
       "  </tbody>\n",
       "</table>\n",
       "</div>"
      ],
      "text/plain": [
       "          lat          lng                                               desc  \\\n",
       "0  40.2978759  -75.5812935  REINDEER CT & DEAD END;  NEW HANOVER; Station ...   \n",
       "1  40.2580614  -75.2646799  BRIAR PATH & WHITEMARSH LN;  HATFIELD TOWNSHIP...   \n",
       "2  40.1211818  -75.3519752  HAWS AVE; NORRISTOWN; 2015-12-10 @ 14:39:21-St...   \n",
       "3  40.1161530  -75.3435130  AIRY ST & SWEDE ST;  NORRISTOWN; Station 308A;...   \n",
       "4  40.2514920  -75.6033497  CHERRYWOOD CT & DEAD END;  LOWER POTTSGROVE; S...   \n",
       "\n",
       "     zip                    title           timeStamp                twp  \\\n",
       "0  19525   EMS: BACK PAINS/INJURY 2015-12-10 17:10:52        NEW HANOVER   \n",
       "1  19446  EMS: DIABETIC EMERGENCY 2015-12-10 17:29:21  HATFIELD TOWNSHIP   \n",
       "2  19401      Fire: GAS-ODOR/LEAK 2015-12-10 14:39:21         NORRISTOWN   \n",
       "3  19401   EMS: CARDIAC EMERGENCY 2015-12-10 16:47:36         NORRISTOWN   \n",
       "4    NaN           EMS: DIZZINESS 2015-12-10 16:56:52   LOWER POTTSGROVE   \n",
       "\n",
       "                         addr  e  \n",
       "0      REINDEER CT & DEAD END  1  \n",
       "1  BRIAR PATH & WHITEMARSH LN  1  \n",
       "2                    HAWS AVE  1  \n",
       "3          AIRY ST & SWEDE ST  1  \n",
       "4    CHERRYWOOD CT & DEAD END  1  "
      ]
     },
     "execution_count": 4,
     "metadata": {},
     "output_type": "execute_result"
    }
   ],
   "source": [
    "calls_data.head()"
   ]
  },
  {
   "attachments": {},
   "cell_type": "markdown",
   "metadata": {},
   "source": [
    "From a first look, the data set seems realtively clean. There could be some NaN on the zip information or other columns."
   ]
  },
  {
   "cell_type": "code",
   "execution_count": 5,
   "metadata": {},
   "outputs": [],
   "source": [
    "revenues_data = pd.read_csv(\n",
    "    filepath_or_buffer = FILE_LOCATION[\"revenues\"],\n",
    "    header = 0,\n",
    "    names = ['zipcode', 'med_revenue'],\n",
    "    dtype = {'zipcode': str, 'med_revenue': \"Int64\"},\n",
    "    sep = \";\",\n",
    "    na_values = \"Nothing\"\n",
    "    )"
   ]
  },
  {
   "cell_type": "code",
   "execution_count": 6,
   "metadata": {},
   "outputs": [
    {
     "data": {
      "text/html": [
       "<div>\n",
       "<style scoped>\n",
       "    .dataframe tbody tr th:only-of-type {\n",
       "        vertical-align: middle;\n",
       "    }\n",
       "\n",
       "    .dataframe tbody tr th {\n",
       "        vertical-align: top;\n",
       "    }\n",
       "\n",
       "    .dataframe thead th {\n",
       "        text-align: right;\n",
       "    }\n",
       "</style>\n",
       "<table border=\"1\" class=\"dataframe\">\n",
       "  <thead>\n",
       "    <tr style=\"text-align: right;\">\n",
       "      <th></th>\n",
       "      <th>zipcode</th>\n",
       "      <th>med_revenue</th>\n",
       "    </tr>\n",
       "  </thead>\n",
       "  <tbody>\n",
       "    <tr>\n",
       "      <th>0</th>\n",
       "      <td>18011</td>\n",
       "      <td>71432</td>\n",
       "    </tr>\n",
       "    <tr>\n",
       "      <th>1</th>\n",
       "      <td>18036</td>\n",
       "      <td>79951</td>\n",
       "    </tr>\n",
       "    <tr>\n",
       "      <th>2</th>\n",
       "      <td>18040</td>\n",
       "      <td>91238</td>\n",
       "    </tr>\n",
       "    <tr>\n",
       "      <th>3</th>\n",
       "      <td>18041</td>\n",
       "      <td>68279</td>\n",
       "    </tr>\n",
       "    <tr>\n",
       "      <th>4</th>\n",
       "      <td>18042</td>\n",
       "      <td>45441</td>\n",
       "    </tr>\n",
       "  </tbody>\n",
       "</table>\n",
       "</div>"
      ],
      "text/plain": [
       "  zipcode  med_revenue\n",
       "0   18011        71432\n",
       "1   18036        79951\n",
       "2   18040        91238\n",
       "3   18041        68279\n",
       "4   18042        45441"
      ]
     },
     "execution_count": 6,
     "metadata": {},
     "output_type": "execute_result"
    }
   ],
   "source": [
    "revenues_data.head()"
   ]
  },
  {
   "attachments": {},
   "cell_type": "markdown",
   "metadata": {},
   "source": [
    "#### First look at the calls data"
   ]
  },
  {
   "cell_type": "code",
   "execution_count": 7,
   "metadata": {},
   "outputs": [
    {
     "name": "stdout",
     "output_type": "stream",
     "text": [
      "<class 'pandas.core.frame.DataFrame'>\n",
      "RangeIndex: 663522 entries, 0 to 663521\n",
      "Data columns (total 9 columns):\n",
      " #   Column     Non-Null Count   Dtype         \n",
      "---  ------     --------------   -----         \n",
      " 0   lat        663522 non-null  object        \n",
      " 1   lng        663522 non-null  object        \n",
      " 2   desc       663522 non-null  object        \n",
      " 3   zip        583323 non-null  object        \n",
      " 4   title      663522 non-null  object        \n",
      " 5   timeStamp  663522 non-null  datetime64[ns]\n",
      " 6   twp        663229 non-null  object        \n",
      " 7   addr       663522 non-null  object        \n",
      " 8   e          663522 non-null  int32         \n",
      "dtypes: datetime64[ns](1), int32(1), object(7)\n",
      "memory usage: 43.0+ MB\n"
     ]
    }
   ],
   "source": [
    "calls_data.info()"
   ]
  },
  {
   "attachments": {},
   "cell_type": "markdown",
   "metadata": {},
   "source": [
    "Expect for the zip column, all the others columns do not contain any missing values."
   ]
  },
  {
   "attachments": {},
   "cell_type": "markdown",
   "metadata": {},
   "source": [
    "The description column must be pretty unique. Let us check if there is any duplicates on that column."
   ]
  },
  {
   "cell_type": "code",
   "execution_count": 8,
   "metadata": {},
   "outputs": [
    {
     "data": {
      "text/plain": [
       "663282"
      ]
     },
     "execution_count": 8,
     "metadata": {},
     "output_type": "execute_result"
    }
   ],
   "source": [
    "len(calls_data['desc'].drop_duplicates())"
   ]
  },
  {
   "cell_type": "code",
   "execution_count": 9,
   "metadata": {},
   "outputs": [
    {
     "name": "stdout",
     "output_type": "stream",
     "text": [
      "percentage of duplicates dropped in the description column : 0.036170616799446886\n"
     ]
    }
   ],
   "source": [
    "print(\"percentage of duplicates dropped in the description column :\", (1 - len(calls_data['desc'].drop_duplicates()) / len(calls_data))*100)"
   ]
  },
  {
   "attachments": {},
   "cell_type": "markdown",
   "metadata": {},
   "source": [
    "This column does not seem to have loads (less than 1%) of duplicates values. It is important since it contains lots of valuable information."
   ]
  },
  {
   "attachments": {},
   "cell_type": "markdown",
   "metadata": {},
   "source": [
    "The data set seems relatively big enough to perfom some interesting vizualizations. \n",
    "\n",
    "It do not contain a major number of duplicates or missing values on important column, so the cleaning / pre-processing part will not be very difficult to tackle."
   ]
  },
  {
   "attachments": {},
   "cell_type": "markdown",
   "metadata": {},
   "source": [
    "### Cleaning and Preprocessing"
   ]
  },
  {
   "cell_type": "code",
   "execution_count": 10,
   "metadata": {},
   "outputs": [],
   "source": [
    "clean_calls_data = calls_data.copy()"
   ]
  },
  {
   "cell_type": "code",
   "execution_count": 11,
   "metadata": {},
   "outputs": [
    {
     "data": {
      "text/html": [
       "<div>\n",
       "<style scoped>\n",
       "    .dataframe tbody tr th:only-of-type {\n",
       "        vertical-align: middle;\n",
       "    }\n",
       "\n",
       "    .dataframe tbody tr th {\n",
       "        vertical-align: top;\n",
       "    }\n",
       "\n",
       "    .dataframe thead th {\n",
       "        text-align: right;\n",
       "    }\n",
       "</style>\n",
       "<table border=\"1\" class=\"dataframe\">\n",
       "  <thead>\n",
       "    <tr style=\"text-align: right;\">\n",
       "      <th></th>\n",
       "      <th>lat</th>\n",
       "      <th>lng</th>\n",
       "      <th>desc</th>\n",
       "      <th>zip</th>\n",
       "      <th>title</th>\n",
       "      <th>timeStamp</th>\n",
       "      <th>twp</th>\n",
       "      <th>addr</th>\n",
       "      <th>e</th>\n",
       "      <th>group</th>\n",
       "      <th>year</th>\n",
       "    </tr>\n",
       "  </thead>\n",
       "  <tbody>\n",
       "    <tr>\n",
       "      <th>0</th>\n",
       "      <td>40.2978759</td>\n",
       "      <td>-75.5812935</td>\n",
       "      <td>REINDEER CT &amp; DEAD END;  NEW HANOVER; Station ...</td>\n",
       "      <td>19525</td>\n",
       "      <td>EMS: BACK PAINS/INJURY</td>\n",
       "      <td>2015-12-10 17:10:52</td>\n",
       "      <td>NEW HANOVER</td>\n",
       "      <td>REINDEER CT &amp; DEAD END</td>\n",
       "      <td>1</td>\n",
       "      <td>EMS</td>\n",
       "      <td>2015</td>\n",
       "    </tr>\n",
       "    <tr>\n",
       "      <th>1</th>\n",
       "      <td>40.2580614</td>\n",
       "      <td>-75.2646799</td>\n",
       "      <td>BRIAR PATH &amp; WHITEMARSH LN;  HATFIELD TOWNSHIP...</td>\n",
       "      <td>19446</td>\n",
       "      <td>EMS: DIABETIC EMERGENCY</td>\n",
       "      <td>2015-12-10 17:29:21</td>\n",
       "      <td>HATFIELD TOWNSHIP</td>\n",
       "      <td>BRIAR PATH &amp; WHITEMARSH LN</td>\n",
       "      <td>1</td>\n",
       "      <td>EMS</td>\n",
       "      <td>2015</td>\n",
       "    </tr>\n",
       "    <tr>\n",
       "      <th>2</th>\n",
       "      <td>40.1211818</td>\n",
       "      <td>-75.3519752</td>\n",
       "      <td>HAWS AVE; NORRISTOWN; 2015-12-10 @ 14:39:21-St...</td>\n",
       "      <td>19401</td>\n",
       "      <td>Fire: GAS-ODOR/LEAK</td>\n",
       "      <td>2015-12-10 14:39:21</td>\n",
       "      <td>NORRISTOWN</td>\n",
       "      <td>HAWS AVE</td>\n",
       "      <td>1</td>\n",
       "      <td>Fire</td>\n",
       "      <td>2015</td>\n",
       "    </tr>\n",
       "    <tr>\n",
       "      <th>3</th>\n",
       "      <td>40.1161530</td>\n",
       "      <td>-75.3435130</td>\n",
       "      <td>AIRY ST &amp; SWEDE ST;  NORRISTOWN; Station 308A;...</td>\n",
       "      <td>19401</td>\n",
       "      <td>EMS: CARDIAC EMERGENCY</td>\n",
       "      <td>2015-12-10 16:47:36</td>\n",
       "      <td>NORRISTOWN</td>\n",
       "      <td>AIRY ST &amp; SWEDE ST</td>\n",
       "      <td>1</td>\n",
       "      <td>EMS</td>\n",
       "      <td>2015</td>\n",
       "    </tr>\n",
       "    <tr>\n",
       "      <th>5</th>\n",
       "      <td>40.2534732</td>\n",
       "      <td>-75.2832450</td>\n",
       "      <td>CANNON AVE &amp; W 9TH ST;  LANSDALE; Station 345;...</td>\n",
       "      <td>19446</td>\n",
       "      <td>EMS: HEAD INJURY</td>\n",
       "      <td>2015-12-10 15:39:04</td>\n",
       "      <td>LANSDALE</td>\n",
       "      <td>CANNON AVE &amp; W 9TH ST</td>\n",
       "      <td>1</td>\n",
       "      <td>EMS</td>\n",
       "      <td>2015</td>\n",
       "    </tr>\n",
       "  </tbody>\n",
       "</table>\n",
       "</div>"
      ],
      "text/plain": [
       "          lat          lng                                               desc  \\\n",
       "0  40.2978759  -75.5812935  REINDEER CT & DEAD END;  NEW HANOVER; Station ...   \n",
       "1  40.2580614  -75.2646799  BRIAR PATH & WHITEMARSH LN;  HATFIELD TOWNSHIP...   \n",
       "2  40.1211818  -75.3519752  HAWS AVE; NORRISTOWN; 2015-12-10 @ 14:39:21-St...   \n",
       "3  40.1161530  -75.3435130  AIRY ST & SWEDE ST;  NORRISTOWN; Station 308A;...   \n",
       "5  40.2534732  -75.2832450  CANNON AVE & W 9TH ST;  LANSDALE; Station 345;...   \n",
       "\n",
       "     zip                    title           timeStamp                twp  \\\n",
       "0  19525   EMS: BACK PAINS/INJURY 2015-12-10 17:10:52        NEW HANOVER   \n",
       "1  19446  EMS: DIABETIC EMERGENCY 2015-12-10 17:29:21  HATFIELD TOWNSHIP   \n",
       "2  19401      Fire: GAS-ODOR/LEAK 2015-12-10 14:39:21         NORRISTOWN   \n",
       "3  19401   EMS: CARDIAC EMERGENCY 2015-12-10 16:47:36         NORRISTOWN   \n",
       "5  19446         EMS: HEAD INJURY 2015-12-10 15:39:04           LANSDALE   \n",
       "\n",
       "                         addr  e group  year  \n",
       "0      REINDEER CT & DEAD END  1   EMS  2015  \n",
       "1  BRIAR PATH & WHITEMARSH LN  1   EMS  2015  \n",
       "2                    HAWS AVE  1  Fire  2015  \n",
       "3          AIRY ST & SWEDE ST  1   EMS  2015  \n",
       "5       CANNON AVE & W 9TH ST  1   EMS  2015  "
      ]
     },
     "execution_count": 11,
     "metadata": {},
     "output_type": "execute_result"
    }
   ],
   "source": [
    "# Drop duplicates in the description column\n",
    "clean_calls_data = calls_data.drop_duplicates(\"desc\")\n",
    "\n",
    "# Drop the NA's\n",
    "clean_calls_data = clean_calls_data.dropna()\n",
    "\n",
    "# Create a new group column for each main category (EMS / Traffic / Fire) of the title column \n",
    "clean_calls_data['group'] = clean_calls_data['title'].apply(lambda x: x.split(':')[0])\n",
    "\n",
    "# Create a year column for time series plots\n",
    "clean_calls_data[\"year\"] = clean_calls_data['timeStamp'].dt.year\n",
    "\n",
    "clean_calls_data.head()"
   ]
  },
  {
   "attachments": {},
   "cell_type": "markdown",
   "metadata": {},
   "source": [
    "After checking the zip codes and the map, there are some outliers to the data set (c.f. zip codes of Montgomery County, Pennsylvania : https://www.ciclt.net/sn/clt/capitolimpact/gw_ziplist.aspx?FIPS=42091) : it does not contain zip codes that are starting with the number 17.\n",
    "\n",
    "It could be that some calls are outside of the county and the emergency services went outside of the county.\n",
    "\n",
    "We decided to focus more on the county and less of these \"outliers\".\n",
    "\n",
    "Let us filter these out."
   ]
  },
  {
   "cell_type": "code",
   "execution_count": 12,
   "metadata": {},
   "outputs": [],
   "source": [
    "clean_calls_data['zip_initial'] = clean_calls_data['zip'].str[:2]\n",
    "\n",
    "clean_calls_data['zip_initial'] = pd.to_numeric(clean_calls_data['zip_initial'])\n",
    "\n",
    "clean_calls_data = clean_calls_data.query('zip_initial >= 18')"
   ]
  },
  {
   "attachments": {},
   "cell_type": "markdown",
   "metadata": {},
   "source": [
    "#### Time series"
   ]
  },
  {
   "cell_type": "code",
   "execution_count": 13,
   "metadata": {},
   "outputs": [
    {
     "data": {
      "text/html": [
       "<div>\n",
       "<style scoped>\n",
       "    .dataframe tbody tr th:only-of-type {\n",
       "        vertical-align: middle;\n",
       "    }\n",
       "\n",
       "    .dataframe tbody tr th {\n",
       "        vertical-align: top;\n",
       "    }\n",
       "\n",
       "    .dataframe thead th {\n",
       "        text-align: right;\n",
       "    }\n",
       "</style>\n",
       "<table border=\"1\" class=\"dataframe\">\n",
       "  <thead>\n",
       "    <tr style=\"text-align: right;\">\n",
       "      <th></th>\n",
       "      <th>year</th>\n",
       "      <th>count</th>\n",
       "    </tr>\n",
       "  </thead>\n",
       "  <tbody>\n",
       "    <tr>\n",
       "      <th>0</th>\n",
       "      <td>2015</td>\n",
       "      <td>6890</td>\n",
       "    </tr>\n",
       "    <tr>\n",
       "      <th>1</th>\n",
       "      <td>2016</td>\n",
       "      <td>124458</td>\n",
       "    </tr>\n",
       "    <tr>\n",
       "      <th>2</th>\n",
       "      <td>2017</td>\n",
       "      <td>123717</td>\n",
       "    </tr>\n",
       "    <tr>\n",
       "      <th>3</th>\n",
       "      <td>2018</td>\n",
       "      <td>132549</td>\n",
       "    </tr>\n",
       "    <tr>\n",
       "      <th>4</th>\n",
       "      <td>2019</td>\n",
       "      <td>130631</td>\n",
       "    </tr>\n",
       "    <tr>\n",
       "      <th>5</th>\n",
       "      <td>2020</td>\n",
       "      <td>64711</td>\n",
       "    </tr>\n",
       "  </tbody>\n",
       "</table>\n",
       "</div>"
      ],
      "text/plain": [
       "   year   count\n",
       "0  2015    6890\n",
       "1  2016  124458\n",
       "2  2017  123717\n",
       "3  2018  132549\n",
       "4  2019  130631\n",
       "5  2020   64711"
      ]
     },
     "execution_count": 13,
     "metadata": {},
     "output_type": "execute_result"
    }
   ],
   "source": [
    "n_calls_per_year = clean_calls_data.groupby('year')['e'].agg(['count'])\n",
    "\n",
    "n_calls_per_year = pd.DataFrame(n_calls_per_year).reset_index()\n",
    "\n",
    "n_calls_per_year"
   ]
  },
  {
   "cell_type": "code",
   "execution_count": 14,
   "metadata": {},
   "outputs": [
    {
     "data": {
      "text/plain": [
       "Text(0.5, 1.0, 'Number of calls per year')"
      ]
     },
     "execution_count": 14,
     "metadata": {},
     "output_type": "execute_result"
    },
    {
     "data": {
      "image/png": "[encoded data removed]",
      "text/plain": [
       "<Figure size 432x288 with 1 Axes>"
      ]
     },
     "metadata": {},
     "output_type": "display_data"
    }
   ],
   "source": [
    "sns.lineplot(data = n_calls_per_year, x = 'year', y = 'count')\n",
    "plt.title('Number of calls per year')"
   ]
  },
  {
   "attachments": {},
   "cell_type": "markdown",
   "metadata": {},
   "source": [
    "It would make sense to start the data from 2016 on, since it does not contain loads of data. \n",
    "\n",
    "For the decline in 2020, we could remove some of the months since the slope seems less important than the one from 2015-2016, but let us first analyze those years."
   ]
  },
  {
   "cell_type": "code",
   "execution_count": 15,
   "metadata": {},
   "outputs": [],
   "source": [
    "clean_calls_data = clean_calls_data[(clean_calls_data.timeStamp >= \"2016-01-01 00:00:00\")]"
   ]
  },
  {
   "attachments": {},
   "cell_type": "markdown",
   "metadata": {},
   "source": [
    "It seems that the 2020 year have much less 911 calls than the other years. Could that be because another event (like COVID for example) or is it because the data set is incomplete ? (or both) \n",
    "\n",
    "Let us take a deeper look at the 2019 and 2020 year, specifically."
   ]
  },
  {
   "cell_type": "code",
   "execution_count": 16,
   "metadata": {},
   "outputs": [
    {
     "data": {
      "text/html": [
       "<div>\n",
       "<style scoped>\n",
       "    .dataframe tbody tr th:only-of-type {\n",
       "        vertical-align: middle;\n",
       "    }\n",
       "\n",
       "    .dataframe tbody tr th {\n",
       "        vertical-align: top;\n",
       "    }\n",
       "\n",
       "    .dataframe thead th {\n",
       "        text-align: right;\n",
       "    }\n",
       "</style>\n",
       "<table border=\"1\" class=\"dataframe\">\n",
       "  <thead>\n",
       "    <tr style=\"text-align: right;\">\n",
       "      <th>group</th>\n",
       "      <th>timeStamp</th>\n",
       "      <th>EMS</th>\n",
       "      <th>Fire</th>\n",
       "      <th>Traffic</th>\n",
       "    </tr>\n",
       "  </thead>\n",
       "  <tbody>\n",
       "    <tr>\n",
       "      <th>0</th>\n",
       "      <td>2019-01-06</td>\n",
       "      <td>1085.0</td>\n",
       "      <td>261.0</td>\n",
       "      <td>568.0</td>\n",
       "    </tr>\n",
       "    <tr>\n",
       "      <th>1</th>\n",
       "      <td>2019-01-13</td>\n",
       "      <td>1293.0</td>\n",
       "      <td>324.0</td>\n",
       "      <td>822.0</td>\n",
       "    </tr>\n",
       "    <tr>\n",
       "      <th>2</th>\n",
       "      <td>2019-01-20</td>\n",
       "      <td>1251.0</td>\n",
       "      <td>329.0</td>\n",
       "      <td>702.0</td>\n",
       "    </tr>\n",
       "    <tr>\n",
       "      <th>3</th>\n",
       "      <td>2019-01-27</td>\n",
       "      <td>1302.0</td>\n",
       "      <td>495.0</td>\n",
       "      <td>922.0</td>\n",
       "    </tr>\n",
       "    <tr>\n",
       "      <th>4</th>\n",
       "      <td>2019-02-03</td>\n",
       "      <td>1249.0</td>\n",
       "      <td>465.0</td>\n",
       "      <td>959.0</td>\n",
       "    </tr>\n",
       "  </tbody>\n",
       "</table>\n",
       "</div>"
      ],
      "text/plain": [
       "group  timeStamp     EMS   Fire  Traffic\n",
       "0     2019-01-06  1085.0  261.0    568.0\n",
       "1     2019-01-13  1293.0  324.0    822.0\n",
       "2     2019-01-20  1251.0  329.0    702.0\n",
       "3     2019-01-27  1302.0  495.0    922.0\n",
       "4     2019-02-03  1249.0  465.0    959.0"
      ]
     },
     "execution_count": 16,
     "metadata": {},
     "output_type": "execute_result"
    }
   ],
   "source": [
    "calls_19 = clean_calls_data.query('year >= 2019 ')\n",
    "\n",
    "calls_19['month_year'] = calls_19['timeStamp'].apply(lambda x: x.strftime('%m-%Y'))\n",
    "\n",
    "# Create a pivot table to count the calls per week\n",
    "calls_pivot = pd.pivot_table(calls_19, values='e', index=['timeStamp'], columns=['group'], aggfunc=np.sum)\n",
    "\n",
    "# Creating counts per group per week\n",
    "calls_pivot = calls_pivot.resample('W').agg(np.sum).reset_index()\n",
    "calls_pivot.head()"
   ]
  },
  {
   "cell_type": "code",
   "execution_count": 17,
   "metadata": {},
   "outputs": [
    {
     "data": {
      "image/png": "[encoded data removed]",
      "text/plain": [
       "<Figure size 432x288 with 1 Axes>"
      ]
     },
     "metadata": {},
     "output_type": "display_data"
    }
   ],
   "source": [
    "fig, ax = plt.subplots()\n",
    "\n",
    "ax.get_xaxis().tick_bottom()    \n",
    "ax.get_yaxis().tick_left() \n",
    "plt.xticks(fontsize = 12) \n",
    "\n",
    "ax.plot_date(calls_pivot['timeStamp'], calls_pivot['EMS'],'k', label = 'EMS')\n",
    "ax.plot_date(calls_pivot['timeStamp'], calls_pivot['Traffic'],'b', label = 'Traffic')\n",
    "ax.plot_date(calls_pivot['timeStamp'], calls_pivot['Fire'],'r', label = 'Fire')\n",
    "\n",
    "\n",
    "ax.set_title(\"EMS, Fire and Traffic 911 calls for the 2019 - 2020 years\")\n",
    "fig.autofmt_xdate()\n",
    "plt.legend(loc = 'upper left')\n",
    "plt.show()\n"
   ]
  },
  {
   "attachments": {},
   "cell_type": "markdown",
   "metadata": {},
   "source": [
    "We can observe two things: \n",
    "\n",
    "- The data set stops at august 2020, not as the other years as they are complete. The 2020 year has 4 months of calls missing compared to the other years.\n",
    "\n",
    "- There is a decrease in the calls around march-april 2020 ; it could be correlated with the COVID-19 crisis but further researches to support that hypothesis must be done.\n",
    "\n",
    "We should remove the end months of 2020, since after the decrease there seems to be a significant increase in calls."
   ]
  },
  {
   "cell_type": "code",
   "execution_count": 18,
   "metadata": {},
   "outputs": [],
   "source": [
    "calls_pivot_20 = calls_pivot[(calls_pivot.timeStamp >= \"2020-01-01 00:00:00\")]"
   ]
  },
  {
   "cell_type": "code",
   "execution_count": 19,
   "metadata": {},
   "outputs": [
    {
     "data": {
      "image/png": "[encoded data removed]",
      "text/plain": [
       "<Figure size 432x288 with 1 Axes>"
      ]
     },
     "metadata": {},
     "output_type": "display_data"
    }
   ],
   "source": [
    "fig, ax = plt.subplots()\n",
    "\n",
    "ax.get_xaxis().tick_bottom()    \n",
    "ax.get_yaxis().tick_left() \n",
    "plt.xticks(fontsize=12) \n",
    "\n",
    "ax.plot_date(calls_pivot_20['timeStamp'], calls_pivot_20['EMS'], 'k', label = 'EMS')\n",
    "ax.plot_date(calls_pivot_20['timeStamp'], calls_pivot_20['Traffic'], 'b', label = 'Traffic')\n",
    "ax.plot_date(calls_pivot_20['timeStamp'], calls_pivot_20['Fire'], 'r', label = 'Fire')\n",
    "\n",
    "\n",
    "ax.set_title(\"EMS, Fire and Traffic 911 calls for the 2020 year\")\n",
    "fig.autofmt_xdate()\n",
    "plt.legend(loc = 'upper left')\n",
    "plt.show()"
   ]
  },
  {
   "attachments": {},
   "cell_type": "markdown",
   "metadata": {},
   "source": [
    "It seems reasonable to cut July and August of the time frame for the 2020 year, which contains much less data than the other months."
   ]
  },
  {
   "cell_type": "code",
   "execution_count": 20,
   "metadata": {},
   "outputs": [
    {
     "data": {
      "text/html": [
       "<div>\n",
       "<style scoped>\n",
       "    .dataframe tbody tr th:only-of-type {\n",
       "        vertical-align: middle;\n",
       "    }\n",
       "\n",
       "    .dataframe tbody tr th {\n",
       "        vertical-align: top;\n",
       "    }\n",
       "\n",
       "    .dataframe thead th {\n",
       "        text-align: right;\n",
       "    }\n",
       "</style>\n",
       "<table border=\"1\" class=\"dataframe\">\n",
       "  <thead>\n",
       "    <tr style=\"text-align: right;\">\n",
       "      <th>group</th>\n",
       "      <th>timeStamp</th>\n",
       "      <th>EMS</th>\n",
       "      <th>Fire</th>\n",
       "      <th>Traffic</th>\n",
       "    </tr>\n",
       "  </thead>\n",
       "  <tbody>\n",
       "    <tr>\n",
       "      <th>78</th>\n",
       "      <td>2020-07-05</td>\n",
       "      <td>1194.0</td>\n",
       "      <td>386.0</td>\n",
       "      <td>484.0</td>\n",
       "    </tr>\n",
       "    <tr>\n",
       "      <th>79</th>\n",
       "      <td>2020-07-12</td>\n",
       "      <td>1312.0</td>\n",
       "      <td>452.0</td>\n",
       "      <td>748.0</td>\n",
       "    </tr>\n",
       "    <tr>\n",
       "      <th>80</th>\n",
       "      <td>2020-07-19</td>\n",
       "      <td>1282.0</td>\n",
       "      <td>304.0</td>\n",
       "      <td>531.0</td>\n",
       "    </tr>\n",
       "    <tr>\n",
       "      <th>81</th>\n",
       "      <td>2020-07-26</td>\n",
       "      <td>1184.0</td>\n",
       "      <td>359.0</td>\n",
       "      <td>648.0</td>\n",
       "    </tr>\n",
       "    <tr>\n",
       "      <th>82</th>\n",
       "      <td>2020-08-02</td>\n",
       "      <td>481.0</td>\n",
       "      <td>143.0</td>\n",
       "      <td>183.0</td>\n",
       "    </tr>\n",
       "  </tbody>\n",
       "</table>\n",
       "</div>"
      ],
      "text/plain": [
       "group  timeStamp     EMS   Fire  Traffic\n",
       "78    2020-07-05  1194.0  386.0    484.0\n",
       "79    2020-07-12  1312.0  452.0    748.0\n",
       "80    2020-07-19  1282.0  304.0    531.0\n",
       "81    2020-07-26  1184.0  359.0    648.0\n",
       "82    2020-08-02   481.0  143.0    183.0"
      ]
     },
     "execution_count": 20,
     "metadata": {},
     "output_type": "execute_result"
    }
   ],
   "source": [
    "july_august = calls_pivot_20[(calls_pivot_20.timeStamp > \"2020-06-28 00:00:00\")]\n",
    "\n",
    "july_august"
   ]
  },
  {
   "cell_type": "code",
   "execution_count": 21,
   "metadata": {},
   "outputs": [],
   "source": [
    "clean_calls_data = clean_calls_data[(clean_calls_data.timeStamp <= \"2020-06-28 00:00:00\")]"
   ]
  },
  {
   "cell_type": "code",
   "execution_count": 22,
   "metadata": {},
   "outputs": [
    {
     "data": {
      "text/html": [
       "<div>\n",
       "<style scoped>\n",
       "    .dataframe tbody tr th:only-of-type {\n",
       "        vertical-align: middle;\n",
       "    }\n",
       "\n",
       "    .dataframe tbody tr th {\n",
       "        vertical-align: top;\n",
       "    }\n",
       "\n",
       "    .dataframe thead th {\n",
       "        text-align: right;\n",
       "    }\n",
       "</style>\n",
       "<table border=\"1\" class=\"dataframe\">\n",
       "  <thead>\n",
       "    <tr style=\"text-align: right;\">\n",
       "      <th>group</th>\n",
       "      <th>timeStamp</th>\n",
       "      <th>EMS</th>\n",
       "      <th>Fire</th>\n",
       "      <th>Traffic</th>\n",
       "    </tr>\n",
       "  </thead>\n",
       "  <tbody>\n",
       "    <tr>\n",
       "      <th>0</th>\n",
       "      <td>2016-01-03</td>\n",
       "      <td>503.0</td>\n",
       "      <td>101.0</td>\n",
       "      <td>215.0</td>\n",
       "    </tr>\n",
       "    <tr>\n",
       "      <th>1</th>\n",
       "      <td>2016-01-10</td>\n",
       "      <td>1248.0</td>\n",
       "      <td>395.0</td>\n",
       "      <td>759.0</td>\n",
       "    </tr>\n",
       "    <tr>\n",
       "      <th>2</th>\n",
       "      <td>2016-01-17</td>\n",
       "      <td>1255.0</td>\n",
       "      <td>309.0</td>\n",
       "      <td>984.0</td>\n",
       "    </tr>\n",
       "    <tr>\n",
       "      <th>3</th>\n",
       "      <td>2016-01-24</td>\n",
       "      <td>1285.0</td>\n",
       "      <td>534.0</td>\n",
       "      <td>1318.0</td>\n",
       "    </tr>\n",
       "    <tr>\n",
       "      <th>4</th>\n",
       "      <td>2016-01-31</td>\n",
       "      <td>1251.0</td>\n",
       "      <td>329.0</td>\n",
       "      <td>1023.0</td>\n",
       "    </tr>\n",
       "  </tbody>\n",
       "</table>\n",
       "</div>"
      ],
      "text/plain": [
       "group  timeStamp     EMS   Fire  Traffic\n",
       "0     2016-01-03   503.0  101.0    215.0\n",
       "1     2016-01-10  1248.0  395.0    759.0\n",
       "2     2016-01-17  1255.0  309.0    984.0\n",
       "3     2016-01-24  1285.0  534.0   1318.0\n",
       "4     2016-01-31  1251.0  329.0   1023.0"
      ]
     },
     "execution_count": 22,
     "metadata": {},
     "output_type": "execute_result"
    }
   ],
   "source": [
    "clean_calls_data['month_year'] = clean_calls_data['timeStamp'].apply(lambda x: x.strftime('%m-%Y'))\n",
    "\n",
    "# Create a pivot table to count the calls per week\n",
    "clean_calls_pivot = pd.pivot_table(clean_calls_data, values='e', index=['timeStamp'], columns=['group'], aggfunc=np.sum)\n",
    "\n",
    "# Creating counts per group per week\n",
    "clean_calls_pivot = clean_calls_pivot.resample('W').agg(np.sum).reset_index()\n",
    "clean_calls_pivot.head()"
   ]
  },
  {
   "cell_type": "code",
   "execution_count": 23,
   "metadata": {},
   "outputs": [
    {
     "data": {
      "image/png": "[encoded data removed]",
      "text/plain": [
       "<Figure size 432x288 with 1 Axes>"
      ]
     },
     "metadata": {},
     "output_type": "display_data"
    }
   ],
   "source": [
    "fig, ax = plt.subplots()\n",
    "\n",
    "ax.get_xaxis().tick_bottom()    \n",
    "ax.get_yaxis().tick_left() \n",
    "plt.xticks(fontsize = 12) \n",
    "\n",
    "ax.plot_date(clean_calls_pivot['timeStamp'], clean_calls_pivot['EMS'],'k', label = 'EMS')\n",
    "ax.plot_date(clean_calls_pivot['timeStamp'], clean_calls_pivot['Traffic'],'b', label = 'Traffic')\n",
    "ax.plot_date(clean_calls_pivot['timeStamp'], clean_calls_pivot['Fire'],'r', label = 'Fire')\n",
    "\n",
    "\n",
    "ax.set_title(\"EMS, Fire and Traffic 911 calls from 2016 - 2020\")\n",
    "fig.autofmt_xdate()\n",
    "plt.legend(loc = 'upper left')\n",
    "plt.show()"
   ]
  },
  {
   "attachments": {},
   "cell_type": "markdown",
   "metadata": {},
   "source": [
    "### First look at the revenues data"
   ]
  },
  {
   "cell_type": "code",
   "execution_count": 24,
   "metadata": {},
   "outputs": [
    {
     "name": "stdout",
     "output_type": "stream",
     "text": [
      "<class 'pandas.core.frame.DataFrame'>\n",
      "RangeIndex: 175 entries, 0 to 174\n",
      "Data columns (total 2 columns):\n",
      " #   Column       Non-Null Count  Dtype \n",
      "---  ------       --------------  ----- \n",
      " 0   zipcode      175 non-null    object\n",
      " 1   med_revenue  166 non-null    Int64 \n",
      "dtypes: Int64(1), object(1)\n",
      "memory usage: 3.0+ KB\n"
     ]
    }
   ],
   "source": [
    "revenues_data.info()"
   ]
  },
  {
   "attachments": {},
   "cell_type": "markdown",
   "metadata": {},
   "source": [
    "We miss 9 revenue values. Except that, we have access to the median revenue of each zipcode present in the calls dataset."
   ]
  },
  {
   "attachments": {},
   "cell_type": "markdown",
   "metadata": {},
   "source": [
    "### Cleaning and preprocessing"
   ]
  },
  {
   "attachments": {},
   "cell_type": "markdown",
   "metadata": {},
   "source": [
    "To enable further work, we will approximate the missing revenues as the average of all the other revenues. This approach is definitely questionable, but it just a first approximation."
   ]
  },
  {
   "cell_type": "code",
   "execution_count": 25,
   "metadata": {},
   "outputs": [],
   "source": [
    "average_med_revenue = revenues_data[revenues_data[\"med_revenue\"].notnull()][\"med_revenue\"].mean()\n",
    "clean_revenues_data = revenues_data\n",
    "clean_revenues_data[\"med_revenue\"] = revenues_data[\"med_revenue\"].fillna(int(average_med_revenue))"
   ]
  },
  {
   "attachments": {},
   "cell_type": "markdown",
   "metadata": {},
   "source": [
    "## Exploratory Data Analysis"
   ]
  },
  {
   "attachments": {},
   "cell_type": "markdown",
   "metadata": {},
   "source": [
    "Let us begin with vizualizing just simple counts of the values in our data set."
   ]
  },
  {
   "cell_type": "code",
   "execution_count": 26,
   "metadata": {},
   "outputs": [
    {
     "data": {
      "text/plain": [
       "Text(0.5, 0, 'Number of 911 calls')"
      ]
     },
     "execution_count": 26,
     "metadata": {},
     "output_type": "execute_result"
    },
    {
     "data": {
      "image/png": "[encoded data removed]",
      "text/plain": [
       "<Figure size 432x288 with 1 Axes>"
      ]
     },
     "metadata": {},
     "output_type": "display_data"
    }
   ],
   "source": [
    "clean_calls_data[\"title\"].value_counts()[:20].plot(kind = \"barh\")\n",
    "plt.title('20 most common 911 calls in Montgomery County, PA for the 2016-2020 period')\n",
    "plt.xlabel('Number of 911 calls')\n"
   ]
  },
  {
   "attachments": {},
   "cell_type": "markdown",
   "metadata": {},
   "source": [
    "Traffic problems have the most calls over the years, followed by fire alarm accidents and fall victim emergencies.\n",
    "\n",
    "Vehicle accidents surpass the others by far."
   ]
  },
  {
   "cell_type": "code",
   "execution_count": 27,
   "metadata": {},
   "outputs": [
    {
     "data": {
      "text/plain": [
       "EMS        295551\n",
       "Traffic    184456\n",
       "Fire        86145\n",
       "Name: group, dtype: int64"
      ]
     },
     "execution_count": 27,
     "metadata": {},
     "output_type": "execute_result"
    }
   ],
   "source": [
    "clean_calls_data[\"group\"].value_counts()"
   ]
  },
  {
   "attachments": {},
   "cell_type": "markdown",
   "metadata": {},
   "source": [
    "We can see that EMS (Emergency medical services) are the highest number of the calls made in the county, followed by traffic and fire.\n",
    "\n",
    "Although, it seems that it is because Traffic only have few titles compared to the EMS one, that is categorize into more several titles."
   ]
  },
  {
   "attachments": {},
   "cell_type": "markdown",
   "metadata": {},
   "source": [
    "#### Calls per time of the day"
   ]
  },
  {
   "attachments": {},
   "cell_type": "markdown",
   "metadata": {},
   "source": [
    "Let us plot a heatmap of the most common call type and see how it evolve depending on the hour of the day."
   ]
  },
  {
   "cell_type": "code",
   "execution_count": 28,
   "metadata": {},
   "outputs": [
    {
     "data": {
      "text/html": [
       "<div>\n",
       "<style scoped>\n",
       "    .dataframe tbody tr th:only-of-type {\n",
       "        vertical-align: middle;\n",
       "    }\n",
       "\n",
       "    .dataframe tbody tr th {\n",
       "        vertical-align: top;\n",
       "    }\n",
       "\n",
       "    .dataframe thead th {\n",
       "        text-align: right;\n",
       "    }\n",
       "</style>\n",
       "<table border=\"1\" class=\"dataframe\">\n",
       "  <thead>\n",
       "    <tr style=\"text-align: right;\">\n",
       "      <th>Hour</th>\n",
       "      <th>00</th>\n",
       "      <th>01</th>\n",
       "      <th>02</th>\n",
       "      <th>03</th>\n",
       "      <th>04</th>\n",
       "      <th>05</th>\n",
       "      <th>06</th>\n",
       "      <th>07</th>\n",
       "      <th>08</th>\n",
       "      <th>09</th>\n",
       "      <th>...</th>\n",
       "      <th>14</th>\n",
       "      <th>15</th>\n",
       "      <th>16</th>\n",
       "      <th>17</th>\n",
       "      <th>18</th>\n",
       "      <th>19</th>\n",
       "      <th>20</th>\n",
       "      <th>21</th>\n",
       "      <th>22</th>\n",
       "      <th>23</th>\n",
       "    </tr>\n",
       "    <tr>\n",
       "      <th>Month</th>\n",
       "      <th></th>\n",
       "      <th></th>\n",
       "      <th></th>\n",
       "      <th></th>\n",
       "      <th></th>\n",
       "      <th></th>\n",
       "      <th></th>\n",
       "      <th></th>\n",
       "      <th></th>\n",
       "      <th></th>\n",
       "      <th></th>\n",
       "      <th></th>\n",
       "      <th></th>\n",
       "      <th></th>\n",
       "      <th></th>\n",
       "      <th></th>\n",
       "      <th></th>\n",
       "      <th></th>\n",
       "      <th></th>\n",
       "      <th></th>\n",
       "      <th></th>\n",
       "    </tr>\n",
       "  </thead>\n",
       "  <tbody>\n",
       "    <tr>\n",
       "      <th>01 January</th>\n",
       "      <td>115</td>\n",
       "      <td>101</td>\n",
       "      <td>99</td>\n",
       "      <td>87</td>\n",
       "      <td>87</td>\n",
       "      <td>121</td>\n",
       "      <td>396</td>\n",
       "      <td>740</td>\n",
       "      <td>933</td>\n",
       "      <td>647</td>\n",
       "      <td>...</td>\n",
       "      <td>855</td>\n",
       "      <td>959</td>\n",
       "      <td>980</td>\n",
       "      <td>1276</td>\n",
       "      <td>939</td>\n",
       "      <td>592</td>\n",
       "      <td>400</td>\n",
       "      <td>363</td>\n",
       "      <td>223</td>\n",
       "      <td>181</td>\n",
       "    </tr>\n",
       "    <tr>\n",
       "      <th>02 February</th>\n",
       "      <td>110</td>\n",
       "      <td>105</td>\n",
       "      <td>79</td>\n",
       "      <td>55</td>\n",
       "      <td>51</td>\n",
       "      <td>135</td>\n",
       "      <td>339</td>\n",
       "      <td>682</td>\n",
       "      <td>687</td>\n",
       "      <td>596</td>\n",
       "      <td>...</td>\n",
       "      <td>753</td>\n",
       "      <td>902</td>\n",
       "      <td>866</td>\n",
       "      <td>851</td>\n",
       "      <td>827</td>\n",
       "      <td>608</td>\n",
       "      <td>388</td>\n",
       "      <td>287</td>\n",
       "      <td>205</td>\n",
       "      <td>208</td>\n",
       "    </tr>\n",
       "    <tr>\n",
       "      <th>03 March</th>\n",
       "      <td>131</td>\n",
       "      <td>104</td>\n",
       "      <td>96</td>\n",
       "      <td>65</td>\n",
       "      <td>79</td>\n",
       "      <td>122</td>\n",
       "      <td>299</td>\n",
       "      <td>609</td>\n",
       "      <td>677</td>\n",
       "      <td>632</td>\n",
       "      <td>...</td>\n",
       "      <td>871</td>\n",
       "      <td>1017</td>\n",
       "      <td>1074</td>\n",
       "      <td>996</td>\n",
       "      <td>657</td>\n",
       "      <td>563</td>\n",
       "      <td>433</td>\n",
       "      <td>345</td>\n",
       "      <td>239</td>\n",
       "      <td>178</td>\n",
       "    </tr>\n",
       "    <tr>\n",
       "      <th>04 April</th>\n",
       "      <td>118</td>\n",
       "      <td>71</td>\n",
       "      <td>81</td>\n",
       "      <td>50</td>\n",
       "      <td>72</td>\n",
       "      <td>94</td>\n",
       "      <td>238</td>\n",
       "      <td>528</td>\n",
       "      <td>590</td>\n",
       "      <td>509</td>\n",
       "      <td>...</td>\n",
       "      <td>798</td>\n",
       "      <td>915</td>\n",
       "      <td>1004</td>\n",
       "      <td>879</td>\n",
       "      <td>637</td>\n",
       "      <td>338</td>\n",
       "      <td>353</td>\n",
       "      <td>261</td>\n",
       "      <td>203</td>\n",
       "      <td>134</td>\n",
       "    </tr>\n",
       "    <tr>\n",
       "      <th>05 May</th>\n",
       "      <td>110</td>\n",
       "      <td>102</td>\n",
       "      <td>76</td>\n",
       "      <td>64</td>\n",
       "      <td>67</td>\n",
       "      <td>91</td>\n",
       "      <td>252</td>\n",
       "      <td>617</td>\n",
       "      <td>674</td>\n",
       "      <td>617</td>\n",
       "      <td>...</td>\n",
       "      <td>928</td>\n",
       "      <td>1094</td>\n",
       "      <td>1130</td>\n",
       "      <td>1129</td>\n",
       "      <td>710</td>\n",
       "      <td>427</td>\n",
       "      <td>386</td>\n",
       "      <td>360</td>\n",
       "      <td>252</td>\n",
       "      <td>197</td>\n",
       "    </tr>\n",
       "  </tbody>\n",
       "</table>\n",
       "<p>5 rows × 24 columns</p>\n",
       "</div>"
      ],
      "text/plain": [
       "Hour          00   01  02  03  04   05   06   07   08   09  ...   14    15  \\\n",
       "Month                                                       ...              \n",
       "01 January   115  101  99  87  87  121  396  740  933  647  ...  855   959   \n",
       "02 February  110  105  79  55  51  135  339  682  687  596  ...  753   902   \n",
       "03 March     131  104  96  65  79  122  299  609  677  632  ...  871  1017   \n",
       "04 April     118   71  81  50  72   94  238  528  590  509  ...  798   915   \n",
       "05 May       110  102  76  64  67   91  252  617  674  617  ...  928  1094   \n",
       "\n",
       "Hour           16    17   18   19   20   21   22   23  \n",
       "Month                                                  \n",
       "01 January    980  1276  939  592  400  363  223  181  \n",
       "02 February   866   851  827  608  388  287  205  208  \n",
       "03 March     1074   996  657  563  433  345  239  178  \n",
       "04 April     1004   879  637  338  353  261  203  134  \n",
       "05 May       1130  1129  710  427  386  360  252  197  \n",
       "\n",
       "[5 rows x 24 columns]"
      ]
     },
     "execution_count": 28,
     "metadata": {},
     "output_type": "execute_result"
    }
   ],
   "source": [
    "vehicle_accidents = clean_calls_data[(clean_calls_data.title.str.match(r'EMS:.*VEHICLE ACCIDENT.*') | clean_calls_data.title.str.match(r'Traffic:.*VEHICLE ACCIDENT.*'))]\n",
    "\n",
    "vehicle_accidents['Month'] = vehicle_accidents['timeStamp'].apply(lambda x: x.strftime('%m %B'))\n",
    "vehicle_accidents['Hour'] = vehicle_accidents['timeStamp'].apply(lambda x: x.strftime('%H'))\n",
    "\n",
    "pivot_table_accidents = pd.pivot_table(vehicle_accidents, values='e', index=['Month'] , columns=['Hour'], aggfunc=np.sum)\n",
    "\n",
    "pivot_table_accidents.head()"
   ]
  },
  {
   "cell_type": "code",
   "execution_count": 29,
   "metadata": {},
   "outputs": [
    {
     "data": {
      "text/plain": [
       "Text(0.5, 1.0, 'Vehicle Accidents during the period 2016-2020, over all townships in Montgomery County, PA')"
      ]
     },
     "execution_count": 29,
     "metadata": {},
     "output_type": "execute_result"
    },
    {
     "data": {
      "image/png": "[encoded data removed]",
      "text/plain": [
       "<Figure size 432x288 with 2 Axes>"
      ]
     },
     "metadata": {},
     "output_type": "display_data"
    }
   ],
   "source": [
    "cmap = sns.cubehelix_palette(light = 2, as_cmap = True)\n",
    "\n",
    "ax = sns.heatmap(pivot_table_accidents, cmap = cmap)\n",
    "\n",
    "ax.set_title('Vehicle Accidents during the period 2016-2020, over all townships in Montgomery County, PA')"
   ]
  },
  {
   "attachments": {},
   "cell_type": "markdown",
   "metadata": {},
   "source": [
    "We can observe that most of the vehicle accidents are during november / december / january, especially at 5 pm.\n",
    "\n",
    "It could be because it is the end of the day so people are more tired and focused than the beginning of the day; it corresponds fairly to the end of the working time, people could be tired and want to go home rather quickly.\n",
    "\n",
    "It could also be because during winter there is less visibilty on the road or more severe weather than during the spring or summer.\n",
    "\n",
    "Sun goes down at approximatively 4.30 pm during the winter, in december (c.f. https://www.timeanddate.com/sun/@5201756?month=12&year=2019), which could explain more accident."
   ]
  },
  {
   "attachments": {},
   "cell_type": "markdown",
   "metadata": {},
   "source": [
    "#### Calls per regions"
   ]
  },
  {
   "cell_type": "code",
   "execution_count": 30,
   "metadata": {},
   "outputs": [
    {
     "data": {
      "text/html": [
       "<div>\n",
       "<style scoped>\n",
       "    .dataframe tbody tr th:only-of-type {\n",
       "        vertical-align: middle;\n",
       "    }\n",
       "\n",
       "    .dataframe tbody tr th {\n",
       "        vertical-align: top;\n",
       "    }\n",
       "\n",
       "    .dataframe thead th {\n",
       "        text-align: right;\n",
       "    }\n",
       "</style>\n",
       "<table border=\"1\" class=\"dataframe\">\n",
       "  <thead>\n",
       "    <tr style=\"text-align: right;\">\n",
       "      <th></th>\n",
       "      <th>zip</th>\n",
       "      <th>count</th>\n",
       "    </tr>\n",
       "  </thead>\n",
       "  <tbody>\n",
       "    <tr>\n",
       "      <th>0</th>\n",
       "      <td>19401</td>\n",
       "      <td>44171</td>\n",
       "    </tr>\n",
       "    <tr>\n",
       "      <th>1</th>\n",
       "      <td>19464</td>\n",
       "      <td>42611</td>\n",
       "    </tr>\n",
       "    <tr>\n",
       "      <th>2</th>\n",
       "      <td>19403</td>\n",
       "      <td>33881</td>\n",
       "    </tr>\n",
       "    <tr>\n",
       "      <th>3</th>\n",
       "      <td>19446</td>\n",
       "      <td>31292</td>\n",
       "    </tr>\n",
       "    <tr>\n",
       "      <th>4</th>\n",
       "      <td>19406</td>\n",
       "      <td>21769</td>\n",
       "    </tr>\n",
       "    <tr>\n",
       "      <th>5</th>\n",
       "      <td>19002</td>\n",
       "      <td>20521</td>\n",
       "    </tr>\n",
       "    <tr>\n",
       "      <th>6</th>\n",
       "      <td>19468</td>\n",
       "      <td>18385</td>\n",
       "    </tr>\n",
       "    <tr>\n",
       "      <th>7</th>\n",
       "      <td>19046</td>\n",
       "      <td>17396</td>\n",
       "    </tr>\n",
       "    <tr>\n",
       "      <th>8</th>\n",
       "      <td>19454</td>\n",
       "      <td>17117</td>\n",
       "    </tr>\n",
       "    <tr>\n",
       "      <th>9</th>\n",
       "      <td>19090</td>\n",
       "      <td>16841</td>\n",
       "    </tr>\n",
       "  </tbody>\n",
       "</table>\n",
       "</div>"
      ],
      "text/plain": [
       "     zip  count\n",
       "0  19401  44171\n",
       "1  19464  42611\n",
       "2  19403  33881\n",
       "3  19446  31292\n",
       "4  19406  21769\n",
       "5  19002  20521\n",
       "6  19468  18385\n",
       "7  19046  17396\n",
       "8  19454  17117\n",
       "9  19090  16841"
      ]
     },
     "execution_count": 30,
     "metadata": {},
     "output_type": "execute_result"
    }
   ],
   "source": [
    "regions = clean_calls_data.copy()\n",
    "\n",
    "sorted_regions = regions.groupby('zip')['e'].agg(['count']).sort_values('count', ascending = False)\n",
    "\n",
    "sorted_regions = pd.DataFrame(sorted_regions).reset_index()\n",
    "\n",
    "sorted_regions.head(10)"
   ]
  },
  {
   "attachments": {},
   "cell_type": "markdown",
   "metadata": {},
   "source": [
    "It clearly seems that there are \"hotspots\" for calls in the county."
   ]
  },
  {
   "cell_type": "code",
   "execution_count": null,
   "metadata": {},
   "outputs": [],
   "source": [
    "with urlopen('https://raw.githubusercontent.com/OpenDataDE/State-zip-code-GeoJSON/master/pa_pennsylvania_zip_codes_geo.min.json') as response:\n",
    "    zipcodes = json.load(response)"
   ]
  },
  {
   "cell_type": "code",
   "execution_count": null,
   "metadata": {},
   "outputs": [],
   "source": [
    "fig = px.choropleth(\n",
    "    data_frame = sorted_regions, \n",
    "    geojson = zipcodes,\n",
    "    locations = 'zip', \n",
    "    color = 'count',\n",
    "    featureidkey = \"properties.ZCTA5CE10\",\n",
    "    labels = {\"count\": \"number of calls\"}\n",
    ")\n",
    "fig.update_layout(margin = {\"r\": 0, \"t\": 0, \"l\": 0, \"b\": 0})\n",
    "fig.update_geos(fitbounds = \"locations\", visible = True)"
   ]
  },
  {
   "cell_type": "code",
   "execution_count": 31,
   "metadata": {},
   "outputs": [
    {
     "data": {
      "text/html": [
       "<div>\n",
       "<style scoped>\n",
       "    .dataframe tbody tr th:only-of-type {\n",
       "        vertical-align: middle;\n",
       "    }\n",
       "\n",
       "    .dataframe tbody tr th {\n",
       "        vertical-align: top;\n",
       "    }\n",
       "\n",
       "    .dataframe thead th {\n",
       "        text-align: right;\n",
       "    }\n",
       "</style>\n",
       "<table border=\"1\" class=\"dataframe\">\n",
       "  <thead>\n",
       "    <tr style=\"text-align: right;\">\n",
       "      <th></th>\n",
       "      <th>zip</th>\n",
       "      <th>group</th>\n",
       "      <th>count</th>\n",
       "    </tr>\n",
       "  </thead>\n",
       "  <tbody>\n",
       "    <tr>\n",
       "      <th>0</th>\n",
       "      <td>19401</td>\n",
       "      <td>EMS</td>\n",
       "      <td>28650</td>\n",
       "    </tr>\n",
       "    <tr>\n",
       "      <th>1</th>\n",
       "      <td>19464</td>\n",
       "      <td>EMS</td>\n",
       "      <td>25186</td>\n",
       "    </tr>\n",
       "    <tr>\n",
       "      <th>2</th>\n",
       "      <td>19403</td>\n",
       "      <td>EMS</td>\n",
       "      <td>21764</td>\n",
       "    </tr>\n",
       "    <tr>\n",
       "      <th>3</th>\n",
       "      <td>19446</td>\n",
       "      <td>EMS</td>\n",
       "      <td>17748</td>\n",
       "    </tr>\n",
       "    <tr>\n",
       "      <th>4</th>\n",
       "      <td>19406</td>\n",
       "      <td>EMS</td>\n",
       "      <td>11408</td>\n",
       "    </tr>\n",
       "    <tr>\n",
       "      <th>5</th>\n",
       "      <td>19464</td>\n",
       "      <td>Traffic</td>\n",
       "      <td>10155</td>\n",
       "    </tr>\n",
       "    <tr>\n",
       "      <th>6</th>\n",
       "      <td>19002</td>\n",
       "      <td>EMS</td>\n",
       "      <td>9658</td>\n",
       "    </tr>\n",
       "    <tr>\n",
       "      <th>7</th>\n",
       "      <td>19401</td>\n",
       "      <td>Traffic</td>\n",
       "      <td>9616</td>\n",
       "    </tr>\n",
       "    <tr>\n",
       "      <th>8</th>\n",
       "      <td>19446</td>\n",
       "      <td>Traffic</td>\n",
       "      <td>9586</td>\n",
       "    </tr>\n",
       "    <tr>\n",
       "      <th>9</th>\n",
       "      <td>19468</td>\n",
       "      <td>EMS</td>\n",
       "      <td>9311</td>\n",
       "    </tr>\n",
       "  </tbody>\n",
       "</table>\n",
       "</div>"
      ],
      "text/plain": [
       "     zip    group  count\n",
       "0  19401      EMS  28650\n",
       "1  19464      EMS  25186\n",
       "2  19403      EMS  21764\n",
       "3  19446      EMS  17748\n",
       "4  19406      EMS  11408\n",
       "5  19464  Traffic  10155\n",
       "6  19002      EMS   9658\n",
       "7  19401  Traffic   9616\n",
       "8  19446  Traffic   9586\n",
       "9  19468      EMS   9311"
      ]
     },
     "execution_count": 31,
     "metadata": {},
     "output_type": "execute_result"
    }
   ],
   "source": [
    "sorted_regions_grouped = clean_calls_data.groupby(['zip', 'group'])['e'].agg(['count']).sort_values('count', ascending=False)\n",
    "\n",
    "sorted_regions_grouped = pd.DataFrame(sorted_regions_grouped).reset_index()\n",
    "\n",
    "sorted_regions_grouped.head(10)"
   ]
  },
  {
   "attachments": {},
   "cell_type": "markdown",
   "metadata": {},
   "source": [
    "### Revenue per zipcode"
   ]
  },
  {
   "cell_type": "code",
   "execution_count": null,
   "metadata": {},
   "outputs": [],
   "source": [
    "fig = px.choropleth(\n",
    "    data_frame = clean_revenues_data, \n",
    "    geojson = zipcodes,\n",
    "    locations = 'zipcode', \n",
    "    color = 'med_revenue',\n",
    "    featureidkey = \"properties.ZCTA5CE10\",\n",
    "    labels = {\"med_revenue\": \"median revenue($)\"}\n",
    ")\n",
    "fig.update_layout(margin = {\"r\":0, \"t\":0, \"l\":0, \"b\":0})\n",
    "fig.update_geos(fitbounds = \"locations\", visible = True)"
   ]
  }
 ],
 "metadata": {
  "kernelspec": {
   "display_name": "Python 3.9.13 ('ada')",
   "language": "python",
   "name": "python3"
  },
  "language_info": {
   "codemirror_mode": {
    "name": "ipython",
    "version": 3
   },
   "file_extension": ".py",
   "mimetype": "text/x-python",
   "name": "python",
   "nbconvert_exporter": "python",
   "pygments_lexer": "ipython3",
   "version": "3.9.12"
  },
  "orig_nbformat": 4,
  "vscode": {
   "interpreter": {
    "hash": "87259b15c3afccf059722440ab90a1874d985996384e98fcc7aa5e93528035d8"
   }
  }
 },
 "nbformat": 4,
 "nbformat_minor": 2
}
